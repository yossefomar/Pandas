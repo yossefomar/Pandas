{
 "cells": [
  {
   "cell_type": "markdown",
   "id": "c1dff2d6",
   "metadata": {
    "papermill": {
     "duration": 0.007448,
     "end_time": "2022-06-29T18:45:43.599605",
     "exception": false,
     "start_time": "2022-06-29T18:45:43.592157",
     "status": "completed"
    },
    "tags": []
   },
   "source": [
    "**This notebook is an exercise in the [Pandas](https://www.kaggle.com/learn/pandas) course.  You can reference the tutorial at [this link](https://www.kaggle.com/residentmario/grouping-and-sorting).**\n",
    "\n",
    "---\n"
   ]
  },
  {
   "cell_type": "markdown",
   "id": "8fa76013",
   "metadata": {
    "papermill": {
     "duration": 0.006295,
     "end_time": "2022-06-29T18:45:43.612590",
     "exception": false,
     "start_time": "2022-06-29T18:45:43.606295",
     "status": "completed"
    },
    "tags": []
   },
   "source": [
    "# Introduction\n",
    "\n",
    "In these exercises we'll apply groupwise analysis to our dataset.\n",
    "\n",
    "Run the code cell below to load the data before running the exercises."
   ]
  },
  {
   "cell_type": "code",
   "execution_count": 1,
   "id": "332cd265",
   "metadata": {
    "execution": {
     "iopub.execute_input": "2022-06-29T18:45:43.628505Z",
     "iopub.status.busy": "2022-06-29T18:45:43.627514Z",
     "iopub.status.idle": "2022-06-29T18:45:46.950856Z",
     "shell.execute_reply": "2022-06-29T18:45:46.948945Z"
    },
    "papermill": {
     "duration": 3.335742,
     "end_time": "2022-06-29T18:45:46.954781",
     "exception": false,
     "start_time": "2022-06-29T18:45:43.619039",
     "status": "completed"
    },
    "tags": []
   },
   "outputs": [
    {
     "name": "stdout",
     "output_type": "stream",
     "text": [
      "Setup complete.\n"
     ]
    }
   ],
   "source": [
    "import pandas as pd\n",
    "\n",
    "reviews = pd.read_csv(\"../input/wine-reviews/winemag-data-130k-v2.csv\", index_col=0)\n",
    "#pd.set_option(\"display.max_rows\", 5)\n",
    "\n",
    "from learntools.core import binder; binder.bind(globals())\n",
    "from learntools.pandas.grouping_and_sorting import *\n",
    "print(\"Setup complete.\")"
   ]
  },
  {
   "cell_type": "markdown",
   "id": "180a4961",
   "metadata": {
    "papermill": {
     "duration": 0.006863,
     "end_time": "2022-06-29T18:45:46.968759",
     "exception": false,
     "start_time": "2022-06-29T18:45:46.961896",
     "status": "completed"
    },
    "tags": []
   },
   "source": [
    "# Exercises"
   ]
  },
  {
   "cell_type": "markdown",
   "id": "c473e4ce",
   "metadata": {
    "papermill": {
     "duration": 0.006925,
     "end_time": "2022-06-29T18:45:46.983358",
     "exception": false,
     "start_time": "2022-06-29T18:45:46.976433",
     "status": "completed"
    },
    "tags": []
   },
   "source": [
    "## 1.\n",
    "Who are the most common wine reviewers in the dataset? Create a `Series` whose index is the `taster_twitter_handle` category from the dataset, and whose values count how many reviews each person wrote."
   ]
  },
  {
   "cell_type": "code",
   "execution_count": 2,
   "id": "580f72f3",
   "metadata": {
    "execution": {
     "iopub.execute_input": "2022-06-29T18:45:47.000612Z",
     "iopub.status.busy": "2022-06-29T18:45:46.999054Z",
     "iopub.status.idle": "2022-06-29T18:45:47.041427Z",
     "shell.execute_reply": "2022-06-29T18:45:47.040577Z"
    },
    "papermill": {
     "duration": 0.052921,
     "end_time": "2022-06-29T18:45:47.043533",
     "exception": false,
     "start_time": "2022-06-29T18:45:46.990612",
     "status": "completed"
    },
    "tags": []
   },
   "outputs": [
    {
     "data": {
      "application/javascript": [
       "parent.postMessage({\"jupyterEvent\": \"custom.exercise_interaction\", \"data\": {\"outcomeType\": 1, \"valueTowardsCompletion\": 0.16666666666666666, \"interactionType\": 1, \"questionType\": 1, \"questionId\": \"1_ReviewsWritten\", \"learnToolsVersion\": \"0.3.4\", \"failureMessage\": \"\", \"exceptionClass\": \"\", \"trace\": \"\"}}, \"*\")"
      ],
      "text/plain": [
       "<IPython.core.display.Javascript object>"
      ]
     },
     "metadata": {},
     "output_type": "display_data"
    },
    {
     "data": {
      "text/markdown": [
       "<span style=\"color:#33cc33\">Correct:</span> \n",
       "\n",
       "\n",
       "```python\n",
       "reviews_written = reviews.groupby('taster_twitter_handle').size()\n",
       "```\n",
       "or\n",
       "```python\n",
       "reviews_written = reviews.groupby('taster_twitter_handle').taster_twitter_handle.count()\n",
       "```\n"
      ],
      "text/plain": [
       "Correct: \n",
       "\n",
       "\n",
       "```python\n",
       "reviews_written = reviews.groupby('taster_twitter_handle').size()\n",
       "```\n",
       "or\n",
       "```python\n",
       "reviews_written = reviews.groupby('taster_twitter_handle').taster_twitter_handle.count()\n",
       "```"
      ]
     },
     "metadata": {},
     "output_type": "display_data"
    }
   ],
   "source": [
    "# Your code here\n",
    "reviews_written = reviews.groupby('taster_twitter_handle').taster_twitter_handle.count()\n",
    "\n",
    "# Check your answer\n",
    "q1.check()"
   ]
  },
  {
   "cell_type": "code",
   "execution_count": 3,
   "id": "0bbb5b49",
   "metadata": {
    "execution": {
     "iopub.execute_input": "2022-06-29T18:45:47.059997Z",
     "iopub.status.busy": "2022-06-29T18:45:47.058929Z",
     "iopub.status.idle": "2022-06-29T18:45:47.063703Z",
     "shell.execute_reply": "2022-06-29T18:45:47.062334Z"
    },
    "papermill": {
     "duration": 0.015932,
     "end_time": "2022-06-29T18:45:47.066506",
     "exception": false,
     "start_time": "2022-06-29T18:45:47.050574",
     "status": "completed"
    },
    "tags": []
   },
   "outputs": [],
   "source": [
    "#q1.hint()\n",
    "#q1.solution()"
   ]
  },
  {
   "cell_type": "markdown",
   "id": "3f02379a",
   "metadata": {
    "papermill": {
     "duration": 0.006794,
     "end_time": "2022-06-29T18:45:47.080362",
     "exception": false,
     "start_time": "2022-06-29T18:45:47.073568",
     "status": "completed"
    },
    "tags": []
   },
   "source": [
    "## 2.\n",
    "What is the best wine I can buy for a given amount of money? Create a `Series` whose index is wine prices and whose values is the maximum number of points a wine costing that much was given in a review. Sort the values by price, ascending (so that `4.0` dollars is at the top and `3300.0` dollars is at the bottom)."
   ]
  },
  {
   "cell_type": "code",
   "execution_count": 4,
   "id": "be954f33",
   "metadata": {
    "execution": {
     "iopub.execute_input": "2022-06-29T18:45:47.096750Z",
     "iopub.status.busy": "2022-06-29T18:45:47.095984Z",
     "iopub.status.idle": "2022-06-29T18:45:47.110147Z",
     "shell.execute_reply": "2022-06-29T18:45:47.109394Z"
    },
    "papermill": {
     "duration": 0.024612,
     "end_time": "2022-06-29T18:45:47.112103",
     "exception": false,
     "start_time": "2022-06-29T18:45:47.087491",
     "status": "completed"
    },
    "tags": []
   },
   "outputs": [
    {
     "data": {
      "application/javascript": [
       "parent.postMessage({\"jupyterEvent\": \"custom.exercise_interaction\", \"data\": {\"outcomeType\": 1, \"valueTowardsCompletion\": 0.16666666666666666, \"interactionType\": 1, \"questionType\": 1, \"questionId\": \"2_BestRatingPerPrice\", \"learnToolsVersion\": \"0.3.4\", \"failureMessage\": \"\", \"exceptionClass\": \"\", \"trace\": \"\"}}, \"*\")"
      ],
      "text/plain": [
       "<IPython.core.display.Javascript object>"
      ]
     },
     "metadata": {},
     "output_type": "display_data"
    },
    {
     "data": {
      "text/markdown": [
       "<span style=\"color:#33cc33\">Correct</span>"
      ],
      "text/plain": [
       "Correct"
      ]
     },
     "metadata": {},
     "output_type": "display_data"
    }
   ],
   "source": [
    "best_rating_per_price = reviews.groupby('price')['points'].max().sort_index()\n",
    "\n",
    "\n",
    "# Check your answer\n",
    "q2.check()"
   ]
  },
  {
   "cell_type": "code",
   "execution_count": 5,
   "id": "7e25d5e0",
   "metadata": {
    "execution": {
     "iopub.execute_input": "2022-06-29T18:45:47.129023Z",
     "iopub.status.busy": "2022-06-29T18:45:47.128631Z",
     "iopub.status.idle": "2022-06-29T18:45:47.133300Z",
     "shell.execute_reply": "2022-06-29T18:45:47.131969Z"
    },
    "papermill": {
     "duration": 0.016449,
     "end_time": "2022-06-29T18:45:47.135828",
     "exception": false,
     "start_time": "2022-06-29T18:45:47.119379",
     "status": "completed"
    },
    "tags": []
   },
   "outputs": [],
   "source": [
    "#q2.hint()\n",
    "#q2.solution()"
   ]
  },
  {
   "cell_type": "markdown",
   "id": "40c876f5",
   "metadata": {
    "papermill": {
     "duration": 0.007298,
     "end_time": "2022-06-29T18:45:47.150638",
     "exception": false,
     "start_time": "2022-06-29T18:45:47.143340",
     "status": "completed"
    },
    "tags": []
   },
   "source": [
    "## 3.\n",
    "What are the minimum and maximum prices for each `variety` of wine? Create a `DataFrame` whose index is the `variety` category from the dataset and whose values are the `min` and `max` values thereof."
   ]
  },
  {
   "cell_type": "code",
   "execution_count": 6,
   "id": "cfb2b2e4",
   "metadata": {
    "execution": {
     "iopub.execute_input": "2022-06-29T18:45:47.166829Z",
     "iopub.status.busy": "2022-06-29T18:45:47.166402Z",
     "iopub.status.idle": "2022-06-29T18:45:47.198176Z",
     "shell.execute_reply": "2022-06-29T18:45:47.197087Z"
    },
    "papermill": {
     "duration": 0.04238,
     "end_time": "2022-06-29T18:45:47.200451",
     "exception": false,
     "start_time": "2022-06-29T18:45:47.158071",
     "status": "completed"
    },
    "tags": []
   },
   "outputs": [
    {
     "data": {
      "application/javascript": [
       "parent.postMessage({\"jupyterEvent\": \"custom.exercise_interaction\", \"data\": {\"outcomeType\": 1, \"valueTowardsCompletion\": 0.16666666666666666, \"interactionType\": 1, \"questionType\": 1, \"questionId\": \"3_PriceExtremes\", \"learnToolsVersion\": \"0.3.4\", \"failureMessage\": \"\", \"exceptionClass\": \"\", \"trace\": \"\"}}, \"*\")"
      ],
      "text/plain": [
       "<IPython.core.display.Javascript object>"
      ]
     },
     "metadata": {},
     "output_type": "display_data"
    },
    {
     "data": {
      "text/markdown": [
       "<span style=\"color:#33cc33\">Correct</span>"
      ],
      "text/plain": [
       "Correct"
      ]
     },
     "metadata": {},
     "output_type": "display_data"
    }
   ],
   "source": [
    "price_extremes = reviews.groupby('variety').price.agg([min,max])\n",
    "\n",
    "# Check your answer\n",
    "q3.check()"
   ]
  },
  {
   "cell_type": "code",
   "execution_count": 7,
   "id": "2715f0d8",
   "metadata": {
    "execution": {
     "iopub.execute_input": "2022-06-29T18:45:47.217086Z",
     "iopub.status.busy": "2022-06-29T18:45:47.216682Z",
     "iopub.status.idle": "2022-06-29T18:45:47.221436Z",
     "shell.execute_reply": "2022-06-29T18:45:47.220015Z"
    },
    "papermill": {
     "duration": 0.016311,
     "end_time": "2022-06-29T18:45:47.224115",
     "exception": false,
     "start_time": "2022-06-29T18:45:47.207804",
     "status": "completed"
    },
    "tags": []
   },
   "outputs": [],
   "source": [
    "#q3.hint()\n",
    "#q3.solution()"
   ]
  },
  {
   "cell_type": "markdown",
   "id": "02839870",
   "metadata": {
    "papermill": {
     "duration": 0.007445,
     "end_time": "2022-06-29T18:45:47.239057",
     "exception": false,
     "start_time": "2022-06-29T18:45:47.231612",
     "status": "completed"
    },
    "tags": []
   },
   "source": [
    "## 4.\n",
    "What are the most expensive wine varieties? Create a variable `sorted_varieties` containing a copy of the dataframe from the previous question where varieties are sorted in descending order based on minimum price, then on maximum price (to break ties)."
   ]
  },
  {
   "cell_type": "code",
   "execution_count": 8,
   "id": "0c17065e",
   "metadata": {
    "execution": {
     "iopub.execute_input": "2022-06-29T18:45:47.256032Z",
     "iopub.status.busy": "2022-06-29T18:45:47.255636Z",
     "iopub.status.idle": "2022-06-29T18:45:47.267945Z",
     "shell.execute_reply": "2022-06-29T18:45:47.266873Z"
    },
    "papermill": {
     "duration": 0.024044,
     "end_time": "2022-06-29T18:45:47.270447",
     "exception": false,
     "start_time": "2022-06-29T18:45:47.246403",
     "status": "completed"
    },
    "tags": []
   },
   "outputs": [
    {
     "data": {
      "application/javascript": [
       "parent.postMessage({\"jupyterEvent\": \"custom.exercise_interaction\", \"data\": {\"outcomeType\": 1, \"valueTowardsCompletion\": 0.16666666666666666, \"interactionType\": 1, \"questionType\": 1, \"questionId\": \"4_SortedVarieties\", \"learnToolsVersion\": \"0.3.4\", \"failureMessage\": \"\", \"exceptionClass\": \"\", \"trace\": \"\"}}, \"*\")"
      ],
      "text/plain": [
       "<IPython.core.display.Javascript object>"
      ]
     },
     "metadata": {},
     "output_type": "display_data"
    },
    {
     "data": {
      "text/markdown": [
       "<span style=\"color:#33cc33\">Correct</span>"
      ],
      "text/plain": [
       "Correct"
      ]
     },
     "metadata": {},
     "output_type": "display_data"
    }
   ],
   "source": [
    "sorted_varieties = price_extremes.sort_values(by=['min','max'],ascending=False)\n",
    "\n",
    "# Check your answer\n",
    "q4.check()"
   ]
  },
  {
   "cell_type": "code",
   "execution_count": 9,
   "id": "5b7bce5a",
   "metadata": {
    "execution": {
     "iopub.execute_input": "2022-06-29T18:45:47.287800Z",
     "iopub.status.busy": "2022-06-29T18:45:47.287384Z",
     "iopub.status.idle": "2022-06-29T18:45:47.291994Z",
     "shell.execute_reply": "2022-06-29T18:45:47.290833Z"
    },
    "papermill": {
     "duration": 0.016095,
     "end_time": "2022-06-29T18:45:47.294419",
     "exception": false,
     "start_time": "2022-06-29T18:45:47.278324",
     "status": "completed"
    },
    "tags": []
   },
   "outputs": [],
   "source": [
    "#q4.hint()\n",
    "#q4.solution()"
   ]
  },
  {
   "cell_type": "markdown",
   "id": "54f15553",
   "metadata": {
    "papermill": {
     "duration": 0.007659,
     "end_time": "2022-06-29T18:45:47.310638",
     "exception": false,
     "start_time": "2022-06-29T18:45:47.302979",
     "status": "completed"
    },
    "tags": []
   },
   "source": [
    "## 5.\n",
    "Create a `Series` whose index is reviewers and whose values is the average review score given out by that reviewer. Hint: you will need the `taster_name` and `points` columns."
   ]
  },
  {
   "cell_type": "code",
   "execution_count": 10,
   "id": "fddc5d25",
   "metadata": {
    "execution": {
     "iopub.execute_input": "2022-06-29T18:45:47.328363Z",
     "iopub.status.busy": "2022-06-29T18:45:47.327877Z",
     "iopub.status.idle": "2022-06-29T18:45:47.356653Z",
     "shell.execute_reply": "2022-06-29T18:45:47.355339Z"
    },
    "papermill": {
     "duration": 0.040895,
     "end_time": "2022-06-29T18:45:47.359307",
     "exception": false,
     "start_time": "2022-06-29T18:45:47.318412",
     "status": "completed"
    },
    "tags": []
   },
   "outputs": [
    {
     "data": {
      "application/javascript": [
       "parent.postMessage({\"jupyterEvent\": \"custom.exercise_interaction\", \"data\": {\"outcomeType\": 1, \"valueTowardsCompletion\": 0.16666666666666666, \"interactionType\": 1, \"questionType\": 1, \"questionId\": \"5_ReviewerMeanRatings\", \"learnToolsVersion\": \"0.3.4\", \"failureMessage\": \"\", \"exceptionClass\": \"\", \"trace\": \"\"}}, \"*\")"
      ],
      "text/plain": [
       "<IPython.core.display.Javascript object>"
      ]
     },
     "metadata": {},
     "output_type": "display_data"
    },
    {
     "data": {
      "text/markdown": [
       "<span style=\"color:#33cc33\">Correct</span>"
      ],
      "text/plain": [
       "Correct"
      ]
     },
     "metadata": {},
     "output_type": "display_data"
    }
   ],
   "source": [
    "reviewer_mean_ratings = reviews.groupby('taster_name').points.mean()\n",
    "\n",
    "# Check your answer\n",
    "q5.check()"
   ]
  },
  {
   "cell_type": "code",
   "execution_count": 11,
   "id": "0dfe973a",
   "metadata": {
    "execution": {
     "iopub.execute_input": "2022-06-29T18:45:47.378623Z",
     "iopub.status.busy": "2022-06-29T18:45:47.378254Z",
     "iopub.status.idle": "2022-06-29T18:45:47.382590Z",
     "shell.execute_reply": "2022-06-29T18:45:47.381439Z"
    },
    "papermill": {
     "duration": 0.017018,
     "end_time": "2022-06-29T18:45:47.384987",
     "exception": false,
     "start_time": "2022-06-29T18:45:47.367969",
     "status": "completed"
    },
    "tags": []
   },
   "outputs": [],
   "source": [
    "#q5.hint()\n",
    "#q5.solution()"
   ]
  },
  {
   "cell_type": "markdown",
   "id": "be7ec7ad",
   "metadata": {
    "papermill": {
     "duration": 0.008363,
     "end_time": "2022-06-29T18:45:47.401470",
     "exception": false,
     "start_time": "2022-06-29T18:45:47.393107",
     "status": "completed"
    },
    "tags": []
   },
   "source": [
    "Are there significant differences in the average scores assigned by the various reviewers? Run the cell below to use the `describe()` method to see a summary of the range of values."
   ]
  },
  {
   "cell_type": "code",
   "execution_count": 12,
   "id": "b407ef2d",
   "metadata": {
    "execution": {
     "iopub.execute_input": "2022-06-29T18:45:47.419696Z",
     "iopub.status.busy": "2022-06-29T18:45:47.419261Z",
     "iopub.status.idle": "2022-06-29T18:45:47.433702Z",
     "shell.execute_reply": "2022-06-29T18:45:47.432274Z"
    },
    "papermill": {
     "duration": 0.026537,
     "end_time": "2022-06-29T18:45:47.436342",
     "exception": false,
     "start_time": "2022-06-29T18:45:47.409805",
     "status": "completed"
    },
    "tags": []
   },
   "outputs": [
    {
     "data": {
      "text/plain": [
       "count    19.000000\n",
       "mean     88.233026\n",
       "std       1.243610\n",
       "min      85.855422\n",
       "25%      87.323501\n",
       "50%      88.536235\n",
       "75%      88.975256\n",
       "max      90.562551\n",
       "Name: points, dtype: float64"
      ]
     },
     "execution_count": 12,
     "metadata": {},
     "output_type": "execute_result"
    }
   ],
   "source": [
    "reviewer_mean_ratings.describe()"
   ]
  },
  {
   "cell_type": "markdown",
   "id": "ea4d5d2b",
   "metadata": {
    "papermill": {
     "duration": 0.008054,
     "end_time": "2022-06-29T18:45:47.453330",
     "exception": false,
     "start_time": "2022-06-29T18:45:47.445276",
     "status": "completed"
    },
    "tags": []
   },
   "source": [
    "## 6.\n",
    "What combination of countries and varieties are most common? Create a `Series` whose index is a `MultiIndex`of `{country, variety}` pairs. For example, a pinot noir produced in the US should map to `{\"US\", \"Pinot Noir\"}`. Sort the values in the `Series` in descending order based on wine count."
   ]
  },
  {
   "cell_type": "code",
   "execution_count": 13,
   "id": "c31defc9",
   "metadata": {
    "execution": {
     "iopub.execute_input": "2022-06-29T18:45:47.471551Z",
     "iopub.status.busy": "2022-06-29T18:45:47.471083Z",
     "iopub.status.idle": "2022-06-29T18:45:47.518548Z",
     "shell.execute_reply": "2022-06-29T18:45:47.517753Z"
    },
    "papermill": {
     "duration": 0.059272,
     "end_time": "2022-06-29T18:45:47.520776",
     "exception": false,
     "start_time": "2022-06-29T18:45:47.461504",
     "status": "completed"
    },
    "tags": []
   },
   "outputs": [
    {
     "data": {
      "application/javascript": [
       "parent.postMessage({\"jupyterEvent\": \"custom.exercise_interaction\", \"data\": {\"outcomeType\": 1, \"valueTowardsCompletion\": 0.16666666666666666, \"interactionType\": 1, \"questionType\": 1, \"questionId\": \"6_GroupbyCountryVariety\", \"learnToolsVersion\": \"0.3.4\", \"failureMessage\": \"\", \"exceptionClass\": \"\", \"trace\": \"\"}}, \"*\")"
      ],
      "text/plain": [
       "<IPython.core.display.Javascript object>"
      ]
     },
     "metadata": {},
     "output_type": "display_data"
    },
    {
     "data": {
      "text/markdown": [
       "<span style=\"color:#33cc33\">Correct</span>"
      ],
      "text/plain": [
       "Correct"
      ]
     },
     "metadata": {},
     "output_type": "display_data"
    }
   ],
   "source": [
    "country_variety_counts = reviews.groupby(['country', 'variety']).size().sort_values(ascending=False)\n",
    "\n",
    "# Check your answer\n",
    "q6.check()"
   ]
  },
  {
   "cell_type": "code",
   "execution_count": 14,
   "id": "2b4227c5",
   "metadata": {
    "execution": {
     "iopub.execute_input": "2022-06-29T18:45:47.540048Z",
     "iopub.status.busy": "2022-06-29T18:45:47.539362Z",
     "iopub.status.idle": "2022-06-29T18:45:47.543754Z",
     "shell.execute_reply": "2022-06-29T18:45:47.542980Z"
    },
    "papermill": {
     "duration": 0.016846,
     "end_time": "2022-06-29T18:45:47.546002",
     "exception": false,
     "start_time": "2022-06-29T18:45:47.529156",
     "status": "completed"
    },
    "tags": []
   },
   "outputs": [],
   "source": [
    "#q6.hint()\n",
    "#q6.solution()"
   ]
  },
  {
   "cell_type": "markdown",
   "id": "eef1bc48",
   "metadata": {
    "papermill": {
     "duration": 0.008538,
     "end_time": "2022-06-29T18:45:47.562958",
     "exception": false,
     "start_time": "2022-06-29T18:45:47.554420",
     "status": "completed"
    },
    "tags": []
   },
   "source": [
    "# Keep going\n",
    "\n",
    "Move on to the [**data types and missing data**](https://www.kaggle.com/residentmario/data-types-and-missing-values)."
   ]
  },
  {
   "cell_type": "markdown",
   "id": "fd4436d5",
   "metadata": {
    "papermill": {
     "duration": 0.008162,
     "end_time": "2022-06-29T18:45:47.579733",
     "exception": false,
     "start_time": "2022-06-29T18:45:47.571571",
     "status": "completed"
    },
    "tags": []
   },
   "source": [
    "---\n",
    "\n",
    "\n",
    "\n",
    "\n",
    "*Have questions or comments? Visit the [course discussion forum](https://www.kaggle.com/learn/pandas/discussion) to chat with other learners.*"
   ]
  }
 ],
 "metadata": {
  "kernelspec": {
   "display_name": "Python 3",
   "language": "python",
   "name": "python3"
  },
  "language_info": {
   "codemirror_mode": {
    "name": "ipython",
    "version": 3
   },
   "file_extension": ".py",
   "mimetype": "text/x-python",
   "name": "python",
   "nbconvert_exporter": "python",
   "pygments_lexer": "ipython3",
   "version": "3.7.12"
  },
  "papermill": {
   "default_parameters": {},
   "duration": 16.040613,
   "end_time": "2022-06-29T18:45:48.310486",
   "environment_variables": {},
   "exception": null,
   "input_path": "__notebook__.ipynb",
   "output_path": "__notebook__.ipynb",
   "parameters": {},
   "start_time": "2022-06-29T18:45:32.269873",
   "version": "2.3.4"
  }
 },
 "nbformat": 4,
 "nbformat_minor": 5
}
