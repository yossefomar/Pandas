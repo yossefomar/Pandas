{
 "cells": [
  {
   "cell_type": "markdown",
   "id": "5cb6845c",
   "metadata": {
    "papermill": {
     "duration": 0.006962,
     "end_time": "2022-06-29T19:12:00.592301",
     "exception": false,
     "start_time": "2022-06-29T19:12:00.585339",
     "status": "completed"
    },
    "tags": []
   },
   "source": [
    "**This notebook is an exercise in the [Pandas](https://www.kaggle.com/learn/pandas) course.  You can reference the tutorial at [this link](https://www.kaggle.com/residentmario/renaming-and-combining).**\n",
    "\n",
    "---\n"
   ]
  },
  {
   "cell_type": "markdown",
   "id": "2f546306",
   "metadata": {
    "papermill": {
     "duration": 0.005873,
     "end_time": "2022-06-29T19:12:00.604353",
     "exception": false,
     "start_time": "2022-06-29T19:12:00.598480",
     "status": "completed"
    },
    "tags": []
   },
   "source": [
    "# Introduction\n",
    "\n",
    "Run the following cell to load your data and some utility functions."
   ]
  },
  {
   "cell_type": "code",
   "execution_count": 1,
   "id": "04d0ab41",
   "metadata": {
    "execution": {
     "iopub.execute_input": "2022-06-29T19:12:00.618494Z",
     "iopub.status.busy": "2022-06-29T19:12:00.618042Z",
     "iopub.status.idle": "2022-06-29T19:12:04.797421Z",
     "shell.execute_reply": "2022-06-29T19:12:04.796200Z"
    },
    "papermill": {
     "duration": 4.190296,
     "end_time": "2022-06-29T19:12:04.800839",
     "exception": false,
     "start_time": "2022-06-29T19:12:00.610543",
     "status": "completed"
    },
    "tags": []
   },
   "outputs": [
    {
     "name": "stdout",
     "output_type": "stream",
     "text": [
      "Setup complete.\n"
     ]
    }
   ],
   "source": [
    "import pandas as pd\n",
    "\n",
    "reviews = pd.read_csv(\"../input/wine-reviews/winemag-data-130k-v2.csv\", index_col=0)\n",
    "\n",
    "from learntools.core import binder; binder.bind(globals())\n",
    "from learntools.pandas.renaming_and_combining import *\n",
    "print(\"Setup complete.\")"
   ]
  },
  {
   "cell_type": "markdown",
   "id": "99ead6ce",
   "metadata": {
    "papermill": {
     "duration": 0.007035,
     "end_time": "2022-06-29T19:12:04.814777",
     "exception": false,
     "start_time": "2022-06-29T19:12:04.807742",
     "status": "completed"
    },
    "tags": []
   },
   "source": [
    "# Exercises\n",
    "\n",
    "View the first several lines of your data by running the cell below:"
   ]
  },
  {
   "cell_type": "code",
   "execution_count": 2,
   "id": "05f622dd",
   "metadata": {
    "execution": {
     "iopub.execute_input": "2022-06-29T19:12:04.828980Z",
     "iopub.status.busy": "2022-06-29T19:12:04.828582Z",
     "iopub.status.idle": "2022-06-29T19:12:04.853377Z",
     "shell.execute_reply": "2022-06-29T19:12:04.852465Z"
    },
    "papermill": {
     "duration": 0.034163,
     "end_time": "2022-06-29T19:12:04.855535",
     "exception": false,
     "start_time": "2022-06-29T19:12:04.821372",
     "status": "completed"
    },
    "tags": []
   },
   "outputs": [
    {
     "data": {
      "text/html": [
       "<div>\n",
       "<style scoped>\n",
       "    .dataframe tbody tr th:only-of-type {\n",
       "        vertical-align: middle;\n",
       "    }\n",
       "\n",
       "    .dataframe tbody tr th {\n",
       "        vertical-align: top;\n",
       "    }\n",
       "\n",
       "    .dataframe thead th {\n",
       "        text-align: right;\n",
       "    }\n",
       "</style>\n",
       "<table border=\"1\" class=\"dataframe\">\n",
       "  <thead>\n",
       "    <tr style=\"text-align: right;\">\n",
       "      <th></th>\n",
       "      <th>country</th>\n",
       "      <th>description</th>\n",
       "      <th>designation</th>\n",
       "      <th>points</th>\n",
       "      <th>price</th>\n",
       "      <th>province</th>\n",
       "      <th>region_1</th>\n",
       "      <th>region_2</th>\n",
       "      <th>taster_name</th>\n",
       "      <th>taster_twitter_handle</th>\n",
       "      <th>title</th>\n",
       "      <th>variety</th>\n",
       "      <th>winery</th>\n",
       "    </tr>\n",
       "  </thead>\n",
       "  <tbody>\n",
       "    <tr>\n",
       "      <th>0</th>\n",
       "      <td>Italy</td>\n",
       "      <td>Aromas include tropical fruit, broom, brimston...</td>\n",
       "      <td>Vulkà Bianco</td>\n",
       "      <td>87</td>\n",
       "      <td>NaN</td>\n",
       "      <td>Sicily &amp; Sardinia</td>\n",
       "      <td>Etna</td>\n",
       "      <td>NaN</td>\n",
       "      <td>Kerin O’Keefe</td>\n",
       "      <td>@kerinokeefe</td>\n",
       "      <td>Nicosia 2013 Vulkà Bianco  (Etna)</td>\n",
       "      <td>White Blend</td>\n",
       "      <td>Nicosia</td>\n",
       "    </tr>\n",
       "    <tr>\n",
       "      <th>1</th>\n",
       "      <td>Portugal</td>\n",
       "      <td>This is ripe and fruity, a wine that is smooth...</td>\n",
       "      <td>Avidagos</td>\n",
       "      <td>87</td>\n",
       "      <td>15.0</td>\n",
       "      <td>Douro</td>\n",
       "      <td>NaN</td>\n",
       "      <td>NaN</td>\n",
       "      <td>Roger Voss</td>\n",
       "      <td>@vossroger</td>\n",
       "      <td>Quinta dos Avidagos 2011 Avidagos Red (Douro)</td>\n",
       "      <td>Portuguese Red</td>\n",
       "      <td>Quinta dos Avidagos</td>\n",
       "    </tr>\n",
       "    <tr>\n",
       "      <th>2</th>\n",
       "      <td>US</td>\n",
       "      <td>Tart and snappy, the flavors of lime flesh and...</td>\n",
       "      <td>NaN</td>\n",
       "      <td>87</td>\n",
       "      <td>14.0</td>\n",
       "      <td>Oregon</td>\n",
       "      <td>Willamette Valley</td>\n",
       "      <td>Willamette Valley</td>\n",
       "      <td>Paul Gregutt</td>\n",
       "      <td>@paulgwine</td>\n",
       "      <td>Rainstorm 2013 Pinot Gris (Willamette Valley)</td>\n",
       "      <td>Pinot Gris</td>\n",
       "      <td>Rainstorm</td>\n",
       "    </tr>\n",
       "    <tr>\n",
       "      <th>3</th>\n",
       "      <td>US</td>\n",
       "      <td>Pineapple rind, lemon pith and orange blossom ...</td>\n",
       "      <td>Reserve Late Harvest</td>\n",
       "      <td>87</td>\n",
       "      <td>13.0</td>\n",
       "      <td>Michigan</td>\n",
       "      <td>Lake Michigan Shore</td>\n",
       "      <td>NaN</td>\n",
       "      <td>Alexander Peartree</td>\n",
       "      <td>NaN</td>\n",
       "      <td>St. Julian 2013 Reserve Late Harvest Riesling ...</td>\n",
       "      <td>Riesling</td>\n",
       "      <td>St. Julian</td>\n",
       "    </tr>\n",
       "    <tr>\n",
       "      <th>4</th>\n",
       "      <td>US</td>\n",
       "      <td>Much like the regular bottling from 2012, this...</td>\n",
       "      <td>Vintner's Reserve Wild Child Block</td>\n",
       "      <td>87</td>\n",
       "      <td>65.0</td>\n",
       "      <td>Oregon</td>\n",
       "      <td>Willamette Valley</td>\n",
       "      <td>Willamette Valley</td>\n",
       "      <td>Paul Gregutt</td>\n",
       "      <td>@paulgwine</td>\n",
       "      <td>Sweet Cheeks 2012 Vintner's Reserve Wild Child...</td>\n",
       "      <td>Pinot Noir</td>\n",
       "      <td>Sweet Cheeks</td>\n",
       "    </tr>\n",
       "  </tbody>\n",
       "</table>\n",
       "</div>"
      ],
      "text/plain": [
       "    country                                        description  \\\n",
       "0     Italy  Aromas include tropical fruit, broom, brimston...   \n",
       "1  Portugal  This is ripe and fruity, a wine that is smooth...   \n",
       "2        US  Tart and snappy, the flavors of lime flesh and...   \n",
       "3        US  Pineapple rind, lemon pith and orange blossom ...   \n",
       "4        US  Much like the regular bottling from 2012, this...   \n",
       "\n",
       "                          designation  points  price           province  \\\n",
       "0                        Vulkà Bianco      87    NaN  Sicily & Sardinia   \n",
       "1                            Avidagos      87   15.0              Douro   \n",
       "2                                 NaN      87   14.0             Oregon   \n",
       "3                Reserve Late Harvest      87   13.0           Michigan   \n",
       "4  Vintner's Reserve Wild Child Block      87   65.0             Oregon   \n",
       "\n",
       "              region_1           region_2         taster_name  \\\n",
       "0                 Etna                NaN       Kerin O’Keefe   \n",
       "1                  NaN                NaN          Roger Voss   \n",
       "2    Willamette Valley  Willamette Valley        Paul Gregutt   \n",
       "3  Lake Michigan Shore                NaN  Alexander Peartree   \n",
       "4    Willamette Valley  Willamette Valley        Paul Gregutt   \n",
       "\n",
       "  taster_twitter_handle                                              title  \\\n",
       "0          @kerinokeefe                  Nicosia 2013 Vulkà Bianco  (Etna)   \n",
       "1            @vossroger      Quinta dos Avidagos 2011 Avidagos Red (Douro)   \n",
       "2           @paulgwine       Rainstorm 2013 Pinot Gris (Willamette Valley)   \n",
       "3                   NaN  St. Julian 2013 Reserve Late Harvest Riesling ...   \n",
       "4           @paulgwine   Sweet Cheeks 2012 Vintner's Reserve Wild Child...   \n",
       "\n",
       "          variety               winery  \n",
       "0     White Blend              Nicosia  \n",
       "1  Portuguese Red  Quinta dos Avidagos  \n",
       "2      Pinot Gris            Rainstorm  \n",
       "3        Riesling           St. Julian  \n",
       "4      Pinot Noir         Sweet Cheeks  "
      ]
     },
     "execution_count": 2,
     "metadata": {},
     "output_type": "execute_result"
    }
   ],
   "source": [
    "reviews.head()"
   ]
  },
  {
   "cell_type": "markdown",
   "id": "408c6c7a",
   "metadata": {
    "papermill": {
     "duration": 0.006156,
     "end_time": "2022-06-29T19:12:04.868275",
     "exception": false,
     "start_time": "2022-06-29T19:12:04.862119",
     "status": "completed"
    },
    "tags": []
   },
   "source": [
    "## 1.\n",
    "`region_1` and `region_2` are pretty uninformative names for locale columns in the dataset. Create a copy of `reviews` with these columns renamed to `region` and `locale`, respectively."
   ]
  },
  {
   "cell_type": "code",
   "execution_count": 3,
   "id": "7be06f7a",
   "metadata": {
    "execution": {
     "iopub.execute_input": "2022-06-29T19:12:04.883773Z",
     "iopub.status.busy": "2022-06-29T19:12:04.882573Z",
     "iopub.status.idle": "2022-06-29T19:12:04.916310Z",
     "shell.execute_reply": "2022-06-29T19:12:04.915253Z"
    },
    "papermill": {
     "duration": 0.043949,
     "end_time": "2022-06-29T19:12:04.918644",
     "exception": false,
     "start_time": "2022-06-29T19:12:04.874695",
     "status": "completed"
    },
    "tags": []
   },
   "outputs": [
    {
     "data": {
      "application/javascript": [
       "parent.postMessage({\"jupyterEvent\": \"custom.exercise_interaction\", \"data\": {\"outcomeType\": 1, \"valueTowardsCompletion\": 0.25, \"interactionType\": 1, \"questionType\": 1, \"questionId\": \"1_RenameCols\", \"learnToolsVersion\": \"0.3.4\", \"failureMessage\": \"\", \"exceptionClass\": \"\", \"trace\": \"\"}}, \"*\")"
      ],
      "text/plain": [
       "<IPython.core.display.Javascript object>"
      ]
     },
     "metadata": {},
     "output_type": "display_data"
    },
    {
     "data": {
      "text/markdown": [
       "<span style=\"color:#33cc33\">Correct</span>"
      ],
      "text/plain": [
       "Correct"
      ]
     },
     "metadata": {},
     "output_type": "display_data"
    }
   ],
   "source": [
    "# Your code here\n",
    "renamed = reviews.rename(columns=dict(region_1='region', region_2='locale'))\n",
    "# Check your answer\n",
    "q1.check()"
   ]
  },
  {
   "cell_type": "code",
   "execution_count": 4,
   "id": "7cc1c0fd",
   "metadata": {
    "execution": {
     "iopub.execute_input": "2022-06-29T19:12:04.933403Z",
     "iopub.status.busy": "2022-06-29T19:12:04.932991Z",
     "iopub.status.idle": "2022-06-29T19:12:04.937153Z",
     "shell.execute_reply": "2022-06-29T19:12:04.936356Z"
    },
    "papermill": {
     "duration": 0.014212,
     "end_time": "2022-06-29T19:12:04.939408",
     "exception": false,
     "start_time": "2022-06-29T19:12:04.925196",
     "status": "completed"
    },
    "tags": []
   },
   "outputs": [],
   "source": [
    "#q1.hint()\n",
    "#q1.solution()"
   ]
  },
  {
   "cell_type": "markdown",
   "id": "7b8acf48",
   "metadata": {
    "papermill": {
     "duration": 0.006467,
     "end_time": "2022-06-29T19:12:04.952535",
     "exception": false,
     "start_time": "2022-06-29T19:12:04.946068",
     "status": "completed"
    },
    "tags": []
   },
   "source": [
    "## 2.\n",
    "Set the index name in the dataset to `wines`."
   ]
  },
  {
   "cell_type": "code",
   "execution_count": 5,
   "id": "43ffdc0c",
   "metadata": {
    "execution": {
     "iopub.execute_input": "2022-06-29T19:12:04.967767Z",
     "iopub.status.busy": "2022-06-29T19:12:04.966844Z",
     "iopub.status.idle": "2022-06-29T19:12:04.999392Z",
     "shell.execute_reply": "2022-06-29T19:12:04.998279Z"
    },
    "papermill": {
     "duration": 0.042963,
     "end_time": "2022-06-29T19:12:05.001978",
     "exception": false,
     "start_time": "2022-06-29T19:12:04.959015",
     "status": "completed"
    },
    "tags": []
   },
   "outputs": [
    {
     "data": {
      "application/javascript": [
       "parent.postMessage({\"jupyterEvent\": \"custom.exercise_interaction\", \"data\": {\"outcomeType\": 1, \"valueTowardsCompletion\": 0.25, \"interactionType\": 1, \"questionType\": 1, \"questionId\": \"2_RenameIndex\", \"learnToolsVersion\": \"0.3.4\", \"failureMessage\": \"\", \"exceptionClass\": \"\", \"trace\": \"\"}}, \"*\")"
      ],
      "text/plain": [
       "<IPython.core.display.Javascript object>"
      ]
     },
     "metadata": {},
     "output_type": "display_data"
    },
    {
     "data": {
      "text/markdown": [
       "<span style=\"color:#33cc33\">Correct</span>"
      ],
      "text/plain": [
       "Correct"
      ]
     },
     "metadata": {},
     "output_type": "display_data"
    }
   ],
   "source": [
    "reindexed = reviews.rename_axis('wines', axis='rows')\n",
    "\n",
    "# Check your answer\n",
    "q2.check()"
   ]
  },
  {
   "cell_type": "code",
   "execution_count": 6,
   "id": "71dd317e",
   "metadata": {
    "execution": {
     "iopub.execute_input": "2022-06-29T19:12:05.018606Z",
     "iopub.status.busy": "2022-06-29T19:12:05.017358Z",
     "iopub.status.idle": "2022-06-29T19:12:05.021975Z",
     "shell.execute_reply": "2022-06-29T19:12:05.020875Z"
    },
    "papermill": {
     "duration": 0.015417,
     "end_time": "2022-06-29T19:12:05.024330",
     "exception": false,
     "start_time": "2022-06-29T19:12:05.008913",
     "status": "completed"
    },
    "tags": []
   },
   "outputs": [],
   "source": [
    "#q2.hint()\n",
    "#q2.solution()"
   ]
  },
  {
   "cell_type": "markdown",
   "id": "b63f33e3",
   "metadata": {
    "papermill": {
     "duration": 0.006564,
     "end_time": "2022-06-29T19:12:05.038393",
     "exception": false,
     "start_time": "2022-06-29T19:12:05.031829",
     "status": "completed"
    },
    "tags": []
   },
   "source": [
    "## 3.\n",
    "The [Things on Reddit](https://www.kaggle.com/residentmario/things-on-reddit/data) dataset includes product links from a selection of top-ranked forums (\"subreddits\") on reddit.com. Run the cell below to load a dataframe of products mentioned on the */r/gaming* subreddit and another dataframe for products mentioned on the *r//movies* subreddit."
   ]
  },
  {
   "cell_type": "code",
   "execution_count": 7,
   "id": "25d0b333",
   "metadata": {
    "execution": {
     "iopub.execute_input": "2022-06-29T19:12:05.054173Z",
     "iopub.status.busy": "2022-06-29T19:12:05.053487Z",
     "iopub.status.idle": "2022-06-29T19:12:05.067327Z",
     "shell.execute_reply": "2022-06-29T19:12:05.066485Z"
    },
    "papermill": {
     "duration": 0.024402,
     "end_time": "2022-06-29T19:12:05.069701",
     "exception": false,
     "start_time": "2022-06-29T19:12:05.045299",
     "status": "completed"
    },
    "tags": []
   },
   "outputs": [],
   "source": [
    "gaming_products = pd.read_csv(\"../input/things-on-reddit/top-things/top-things/reddits/g/gaming.csv\")\n",
    "gaming_products['subreddit'] = \"r/gaming\"\n",
    "movie_products = pd.read_csv(\"../input/things-on-reddit/top-things/top-things/reddits/m/movies.csv\")\n",
    "movie_products['subreddit'] = \"r/movies\""
   ]
  },
  {
   "cell_type": "markdown",
   "id": "f52a823b",
   "metadata": {
    "papermill": {
     "duration": 0.006821,
     "end_time": "2022-06-29T19:12:05.084140",
     "exception": false,
     "start_time": "2022-06-29T19:12:05.077319",
     "status": "completed"
    },
    "tags": []
   },
   "source": [
    "Create a `DataFrame` of products mentioned on *either* subreddit."
   ]
  },
  {
   "cell_type": "code",
   "execution_count": 8,
   "id": "8790fd6c",
   "metadata": {
    "execution": {
     "iopub.execute_input": "2022-06-29T19:12:05.100570Z",
     "iopub.status.busy": "2022-06-29T19:12:05.099868Z",
     "iopub.status.idle": "2022-06-29T19:12:05.113870Z",
     "shell.execute_reply": "2022-06-29T19:12:05.112714Z"
    },
    "papermill": {
     "duration": 0.02469,
     "end_time": "2022-06-29T19:12:05.116348",
     "exception": false,
     "start_time": "2022-06-29T19:12:05.091658",
     "status": "completed"
    },
    "tags": []
   },
   "outputs": [
    {
     "data": {
      "application/javascript": [
       "parent.postMessage({\"jupyterEvent\": \"custom.exercise_interaction\", \"data\": {\"outcomeType\": 1, \"valueTowardsCompletion\": 0.25, \"interactionType\": 1, \"questionType\": 2, \"questionId\": \"3_ConcatReddit\", \"learnToolsVersion\": \"0.3.4\", \"failureMessage\": \"\", \"exceptionClass\": \"\", \"trace\": \"\"}}, \"*\")"
      ],
      "text/plain": [
       "<IPython.core.display.Javascript object>"
      ]
     },
     "metadata": {},
     "output_type": "display_data"
    },
    {
     "data": {
      "text/markdown": [
       "<span style=\"color:#33cc33\">Correct</span>"
      ],
      "text/plain": [
       "Correct"
      ]
     },
     "metadata": {},
     "output_type": "display_data"
    }
   ],
   "source": [
    "combined_products = pd.concat([gaming_products, movie_products])\n",
    "\n",
    "# Check your answer\n",
    "q3.check()"
   ]
  },
  {
   "cell_type": "code",
   "execution_count": 9,
   "id": "010302c1",
   "metadata": {
    "execution": {
     "iopub.execute_input": "2022-06-29T19:12:05.132618Z",
     "iopub.status.busy": "2022-06-29T19:12:05.131763Z",
     "iopub.status.idle": "2022-06-29T19:12:05.136009Z",
     "shell.execute_reply": "2022-06-29T19:12:05.135137Z"
    },
    "papermill": {
     "duration": 0.014782,
     "end_time": "2022-06-29T19:12:05.138172",
     "exception": false,
     "start_time": "2022-06-29T19:12:05.123390",
     "status": "completed"
    },
    "tags": []
   },
   "outputs": [],
   "source": [
    "#q3.hint()\n",
    "#q3.solution()"
   ]
  },
  {
   "cell_type": "markdown",
   "id": "9ca7be18",
   "metadata": {
    "papermill": {
     "duration": 0.006722,
     "end_time": "2022-06-29T19:12:05.152625",
     "exception": false,
     "start_time": "2022-06-29T19:12:05.145903",
     "status": "completed"
    },
    "tags": []
   },
   "source": [
    "## 4.\n",
    "The [Powerlifting Database](https://www.kaggle.com/open-powerlifting/powerlifting-database) dataset on Kaggle includes one CSV table for powerlifting meets and a separate one for powerlifting competitors. Run the cell below to load these datasets into dataframes:"
   ]
  },
  {
   "cell_type": "code",
   "execution_count": 10,
   "id": "0258bec8",
   "metadata": {
    "execution": {
     "iopub.execute_input": "2022-06-29T19:12:05.168744Z",
     "iopub.status.busy": "2022-06-29T19:12:05.168313Z",
     "iopub.status.idle": "2022-06-29T19:12:06.026808Z",
     "shell.execute_reply": "2022-06-29T19:12:06.025712Z"
    },
    "papermill": {
     "duration": 0.869885,
     "end_time": "2022-06-29T19:12:06.029496",
     "exception": false,
     "start_time": "2022-06-29T19:12:05.159611",
     "status": "completed"
    },
    "tags": []
   },
   "outputs": [],
   "source": [
    "powerlifting_meets = pd.read_csv(\"../input/powerlifting-database/meets.csv\")\n",
    "powerlifting_competitors = pd.read_csv(\"../input/powerlifting-database/openpowerlifting.csv\")"
   ]
  },
  {
   "cell_type": "markdown",
   "id": "c1f5f54a",
   "metadata": {
    "papermill": {
     "duration": 0.006932,
     "end_time": "2022-06-29T19:12:06.043594",
     "exception": false,
     "start_time": "2022-06-29T19:12:06.036662",
     "status": "completed"
    },
    "tags": []
   },
   "source": [
    "Both tables include references to a `MeetID`, a unique key for each meet (competition) included in the database. Using this, generate a dataset combining the two tables into one."
   ]
  },
  {
   "cell_type": "code",
   "execution_count": 11,
   "id": "2f407311",
   "metadata": {
    "execution": {
     "iopub.execute_input": "2022-06-29T19:12:06.059561Z",
     "iopub.status.busy": "2022-06-29T19:12:06.059177Z",
     "iopub.status.idle": "2022-06-29T19:12:07.152277Z",
     "shell.execute_reply": "2022-06-29T19:12:07.151166Z"
    },
    "papermill": {
     "duration": 1.104155,
     "end_time": "2022-06-29T19:12:07.154875",
     "exception": false,
     "start_time": "2022-06-29T19:12:06.050720",
     "status": "completed"
    },
    "tags": []
   },
   "outputs": [
    {
     "data": {
      "application/javascript": [
       "parent.postMessage({\"jupyterEvent\": \"custom.exercise_interaction\", \"data\": {\"outcomeType\": 1, \"valueTowardsCompletion\": 0.25, \"interactionType\": 1, \"questionType\": 2, \"questionId\": \"4_JoinLifting\", \"learnToolsVersion\": \"0.3.4\", \"failureMessage\": \"\", \"exceptionClass\": \"\", \"trace\": \"\"}}, \"*\")"
      ],
      "text/plain": [
       "<IPython.core.display.Javascript object>"
      ]
     },
     "metadata": {},
     "output_type": "display_data"
    },
    {
     "data": {
      "text/markdown": [
       "<span style=\"color:#33cc33\">Correct</span>"
      ],
      "text/plain": [
       "Correct"
      ]
     },
     "metadata": {},
     "output_type": "display_data"
    }
   ],
   "source": [
    "powerlifting_combined = powerlifting_meets.set_index(\"MeetID\").join(powerlifting_competitors.set_index(\"MeetID\"))\n",
    "\n",
    "# Check your answer\n",
    "q4.check()"
   ]
  },
  {
   "cell_type": "code",
   "execution_count": 12,
   "id": "bc6c25cd",
   "metadata": {
    "execution": {
     "iopub.execute_input": "2022-06-29T19:12:07.171548Z",
     "iopub.status.busy": "2022-06-29T19:12:07.171134Z",
     "iopub.status.idle": "2022-06-29T19:12:07.176185Z",
     "shell.execute_reply": "2022-06-29T19:12:07.174777Z"
    },
    "papermill": {
     "duration": 0.016007,
     "end_time": "2022-06-29T19:12:07.178377",
     "exception": false,
     "start_time": "2022-06-29T19:12:07.162370",
     "status": "completed"
    },
    "tags": []
   },
   "outputs": [],
   "source": [
    "#q4.hint()\n",
    "#q4.solution()"
   ]
  },
  {
   "cell_type": "markdown",
   "id": "3bbc7c76",
   "metadata": {
    "papermill": {
     "duration": 0.007505,
     "end_time": "2022-06-29T19:12:07.193687",
     "exception": false,
     "start_time": "2022-06-29T19:12:07.186182",
     "status": "completed"
    },
    "tags": []
   },
   "source": [
    "# Congratulations!\n",
    "\n",
    "You've finished the Pandas micro-course.  Many data scientists feel efficiency with Pandas is the most useful and practical skill they have, because it allows you to progress quickly in any project you have.\n",
    "\n",
    "If you'd like to apply your new skills to examining geospatial data, you're encouraged to check out our **[Geospatial Analysis](https://www.kaggle.com/learn/geospatial-analysis)** micro-course.\n",
    "\n",
    "You can also take advantage of your Pandas skills by entering a **[Kaggle Competition](https://www.kaggle.com/competitions)** or by answering a question you find interesting using **[Kaggle Datasets](https://www.kaggle.com/datasets)**."
   ]
  },
  {
   "cell_type": "markdown",
   "id": "511b12f2",
   "metadata": {
    "papermill": {
     "duration": 0.007121,
     "end_time": "2022-06-29T19:12:07.208280",
     "exception": false,
     "start_time": "2022-06-29T19:12:07.201159",
     "status": "completed"
    },
    "tags": []
   },
   "source": [
    "---\n",
    "\n",
    "\n",
    "\n",
    "\n",
    "*Have questions or comments? Visit the [course discussion forum](https://www.kaggle.com/learn/pandas/discussion) to chat with other learners.*"
   ]
  }
 ],
 "metadata": {
  "kernelspec": {
   "display_name": "Python 3",
   "language": "python",
   "name": "python3"
  },
  "language_info": {
   "codemirror_mode": {
    "name": "ipython",
    "version": 3
   },
   "file_extension": ".py",
   "mimetype": "text/x-python",
   "name": "python",
   "nbconvert_exporter": "python",
   "pygments_lexer": "ipython3",
   "version": "3.7.12"
  },
  "papermill": {
   "default_parameters": {},
   "duration": 17.818768,
   "end_time": "2022-06-29T19:12:07.938035",
   "environment_variables": {},
   "exception": null,
   "input_path": "__notebook__.ipynb",
   "output_path": "__notebook__.ipynb",
   "parameters": {},
   "start_time": "2022-06-29T19:11:50.119267",
   "version": "2.3.4"
  }
 },
 "nbformat": 4,
 "nbformat_minor": 5
}
