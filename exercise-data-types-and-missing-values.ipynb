{
 "cells": [
  {
   "cell_type": "markdown",
   "id": "314f5357",
   "metadata": {
    "papermill": {
     "duration": 0.006045,
     "end_time": "2022-06-29T18:54:54.297006",
     "exception": false,
     "start_time": "2022-06-29T18:54:54.290961",
     "status": "completed"
    },
    "tags": []
   },
   "source": [
    "**This notebook is an exercise in the [Pandas](https://www.kaggle.com/learn/pandas) course.  You can reference the tutorial at [this link](https://www.kaggle.com/residentmario/data-types-and-missing-values).**\n",
    "\n",
    "---\n"
   ]
  },
  {
   "cell_type": "markdown",
   "id": "c041490d",
   "metadata": {
    "papermill": {
     "duration": 0.004693,
     "end_time": "2022-06-29T18:54:54.306813",
     "exception": false,
     "start_time": "2022-06-29T18:54:54.302120",
     "status": "completed"
    },
    "tags": []
   },
   "source": [
    "# Introduction\n",
    "\n",
    "Run the following cell to load your data and some utility functions."
   ]
  },
  {
   "cell_type": "code",
   "execution_count": 1,
   "id": "095db6b9",
   "metadata": {
    "execution": {
     "iopub.execute_input": "2022-06-29T18:54:54.318909Z",
     "iopub.status.busy": "2022-06-29T18:54:54.318374Z",
     "iopub.status.idle": "2022-06-29T18:54:57.596195Z",
     "shell.execute_reply": "2022-06-29T18:54:57.594944Z"
    },
    "papermill": {
     "duration": 3.287927,
     "end_time": "2022-06-29T18:54:57.599696",
     "exception": false,
     "start_time": "2022-06-29T18:54:54.311769",
     "status": "completed"
    },
    "tags": []
   },
   "outputs": [
    {
     "name": "stdout",
     "output_type": "stream",
     "text": [
      "Setup complete.\n"
     ]
    }
   ],
   "source": [
    "import pandas as pd\n",
    "\n",
    "reviews = pd.read_csv(\"../input/wine-reviews/winemag-data-130k-v2.csv\", index_col=0)\n",
    "\n",
    "from learntools.core import binder; binder.bind(globals())\n",
    "from learntools.pandas.data_types_and_missing_data import *\n",
    "print(\"Setup complete.\")"
   ]
  },
  {
   "cell_type": "markdown",
   "id": "c34c18ec",
   "metadata": {
    "papermill": {
     "duration": 0.00493,
     "end_time": "2022-06-29T18:54:57.609960",
     "exception": false,
     "start_time": "2022-06-29T18:54:57.605030",
     "status": "completed"
    },
    "tags": []
   },
   "source": [
    "# Exercises"
   ]
  },
  {
   "cell_type": "markdown",
   "id": "3218442d",
   "metadata": {
    "papermill": {
     "duration": 0.005118,
     "end_time": "2022-06-29T18:54:57.620535",
     "exception": false,
     "start_time": "2022-06-29T18:54:57.615417",
     "status": "completed"
    },
    "tags": []
   },
   "source": [
    "## 1. \n",
    "What is the data type of the `points` column in the dataset?"
   ]
  },
  {
   "cell_type": "code",
   "execution_count": 2,
   "id": "10699d36",
   "metadata": {
    "execution": {
     "iopub.execute_input": "2022-06-29T18:54:57.633658Z",
     "iopub.status.busy": "2022-06-29T18:54:57.632780Z",
     "iopub.status.idle": "2022-06-29T18:54:57.646657Z",
     "shell.execute_reply": "2022-06-29T18:54:57.645495Z"
    },
    "papermill": {
     "duration": 0.02329,
     "end_time": "2022-06-29T18:54:57.649132",
     "exception": false,
     "start_time": "2022-06-29T18:54:57.625842",
     "status": "completed"
    },
    "tags": []
   },
   "outputs": [
    {
     "data": {
      "application/javascript": [
       "parent.postMessage({\"jupyterEvent\": \"custom.exercise_interaction\", \"data\": {\"outcomeType\": 1, \"valueTowardsCompletion\": 0.25, \"interactionType\": 1, \"questionType\": 1, \"questionId\": \"1_PointsDtype\", \"learnToolsVersion\": \"0.3.4\", \"failureMessage\": \"\", \"exceptionClass\": \"\", \"trace\": \"\"}}, \"*\")"
      ],
      "text/plain": [
       "<IPython.core.display.Javascript object>"
      ]
     },
     "metadata": {},
     "output_type": "display_data"
    },
    {
     "data": {
      "text/markdown": [
       "<span style=\"color:#33cc33\">Correct</span>"
      ],
      "text/plain": [
       "Correct"
      ]
     },
     "metadata": {},
     "output_type": "display_data"
    }
   ],
   "source": [
    "# Your code here\n",
    "dtype = reviews.points.dtype\n",
    "\n",
    "# Check your answer\n",
    "q1.check()"
   ]
  },
  {
   "cell_type": "code",
   "execution_count": 3,
   "id": "bfc6fd04",
   "metadata": {
    "execution": {
     "iopub.execute_input": "2022-06-29T18:54:57.662630Z",
     "iopub.status.busy": "2022-06-29T18:54:57.661756Z",
     "iopub.status.idle": "2022-06-29T18:54:57.667015Z",
     "shell.execute_reply": "2022-06-29T18:54:57.665723Z"
    },
    "papermill": {
     "duration": 0.014899,
     "end_time": "2022-06-29T18:54:57.669517",
     "exception": false,
     "start_time": "2022-06-29T18:54:57.654618",
     "status": "completed"
    },
    "tags": []
   },
   "outputs": [],
   "source": [
    "#q1.hint()\n",
    "#q1.solution()"
   ]
  },
  {
   "cell_type": "markdown",
   "id": "c47d1eed",
   "metadata": {
    "papermill": {
     "duration": 0.005229,
     "end_time": "2022-06-29T18:54:57.680266",
     "exception": false,
     "start_time": "2022-06-29T18:54:57.675037",
     "status": "completed"
    },
    "tags": []
   },
   "source": [
    "## 2. \n",
    "Create a Series from entries in the `points` column, but convert the entries to strings. Hint: strings are `str` in native Python."
   ]
  },
  {
   "cell_type": "code",
   "execution_count": 4,
   "id": "bebfaa9b",
   "metadata": {
    "execution": {
     "iopub.execute_input": "2022-06-29T18:54:57.693548Z",
     "iopub.status.busy": "2022-06-29T18:54:57.693087Z",
     "iopub.status.idle": "2022-06-29T18:54:57.832330Z",
     "shell.execute_reply": "2022-06-29T18:54:57.831514Z"
    },
    "papermill": {
     "duration": 0.149227,
     "end_time": "2022-06-29T18:54:57.835091",
     "exception": false,
     "start_time": "2022-06-29T18:54:57.685864",
     "status": "completed"
    },
    "tags": []
   },
   "outputs": [
    {
     "data": {
      "application/javascript": [
       "parent.postMessage({\"jupyterEvent\": \"custom.exercise_interaction\", \"data\": {\"outcomeType\": 1, \"valueTowardsCompletion\": 0.25, \"interactionType\": 1, \"questionType\": 1, \"questionId\": \"2_StrPoints\", \"learnToolsVersion\": \"0.3.4\", \"failureMessage\": \"\", \"exceptionClass\": \"\", \"trace\": \"\"}}, \"*\")"
      ],
      "text/plain": [
       "<IPython.core.display.Javascript object>"
      ]
     },
     "metadata": {},
     "output_type": "display_data"
    },
    {
     "data": {
      "text/markdown": [
       "<span style=\"color:#33cc33\">Correct</span>"
      ],
      "text/plain": [
       "Correct"
      ]
     },
     "metadata": {},
     "output_type": "display_data"
    }
   ],
   "source": [
    "point_strings = reviews.points.astype('str')\n",
    "\n",
    "# Check your answer\n",
    "q2.check()"
   ]
  },
  {
   "cell_type": "code",
   "execution_count": 5,
   "id": "8081f41e",
   "metadata": {
    "execution": {
     "iopub.execute_input": "2022-06-29T18:54:57.849462Z",
     "iopub.status.busy": "2022-06-29T18:54:57.848286Z",
     "iopub.status.idle": "2022-06-29T18:54:57.853576Z",
     "shell.execute_reply": "2022-06-29T18:54:57.852108Z"
    },
    "papermill": {
     "duration": 0.015053,
     "end_time": "2022-06-29T18:54:57.855951",
     "exception": false,
     "start_time": "2022-06-29T18:54:57.840898",
     "status": "completed"
    },
    "tags": []
   },
   "outputs": [],
   "source": [
    "#q2.hint()\n",
    "#q2.solution()"
   ]
  },
  {
   "cell_type": "markdown",
   "id": "2e41e9e2",
   "metadata": {
    "papermill": {
     "duration": 0.005264,
     "end_time": "2022-06-29T18:54:57.867914",
     "exception": false,
     "start_time": "2022-06-29T18:54:57.862650",
     "status": "completed"
    },
    "tags": []
   },
   "source": [
    "## 3.\n",
    "Sometimes the price column is null. How many reviews in the dataset are missing a price?"
   ]
  },
  {
   "cell_type": "code",
   "execution_count": 6,
   "id": "0624a202",
   "metadata": {
    "execution": {
     "iopub.execute_input": "2022-06-29T18:54:57.881432Z",
     "iopub.status.busy": "2022-06-29T18:54:57.880756Z",
     "iopub.status.idle": "2022-06-29T18:54:57.889956Z",
     "shell.execute_reply": "2022-06-29T18:54:57.888668Z"
    },
    "papermill": {
     "duration": 0.01864,
     "end_time": "2022-06-29T18:54:57.891984",
     "exception": false,
     "start_time": "2022-06-29T18:54:57.873344",
     "status": "completed"
    },
    "tags": []
   },
   "outputs": [
    {
     "data": {
      "application/javascript": [
       "parent.postMessage({\"jupyterEvent\": \"custom.exercise_interaction\", \"data\": {\"outcomeType\": 1, \"valueTowardsCompletion\": 0.25, \"interactionType\": 1, \"questionType\": 1, \"questionId\": \"3_CountMissingPrices\", \"learnToolsVersion\": \"0.3.4\", \"failureMessage\": \"\", \"exceptionClass\": \"\", \"trace\": \"\"}}, \"*\")"
      ],
      "text/plain": [
       "<IPython.core.display.Javascript object>"
      ]
     },
     "metadata": {},
     "output_type": "display_data"
    },
    {
     "data": {
      "text/markdown": [
       "<span style=\"color:#33cc33\">Correct</span>"
      ],
      "text/plain": [
       "Correct"
      ]
     },
     "metadata": {},
     "output_type": "display_data"
    }
   ],
   "source": [
    "n_missing_prices = pd.isnull(reviews.price).sum()\n",
    "\n",
    "# Check your answer\n",
    "q3.check()"
   ]
  },
  {
   "cell_type": "code",
   "execution_count": 7,
   "id": "55286efe",
   "metadata": {
    "execution": {
     "iopub.execute_input": "2022-06-29T18:54:57.906225Z",
     "iopub.status.busy": "2022-06-29T18:54:57.905540Z",
     "iopub.status.idle": "2022-06-29T18:54:57.909215Z",
     "shell.execute_reply": "2022-06-29T18:54:57.908486Z"
    },
    "papermill": {
     "duration": 0.014186,
     "end_time": "2022-06-29T18:54:57.911976",
     "exception": false,
     "start_time": "2022-06-29T18:54:57.897790",
     "status": "completed"
    },
    "tags": []
   },
   "outputs": [],
   "source": [
    "#q3.hint()\n",
    "#q3.solution()"
   ]
  },
  {
   "cell_type": "markdown",
   "id": "1f7be7e9",
   "metadata": {
    "papermill": {
     "duration": 0.005734,
     "end_time": "2022-06-29T18:54:57.923844",
     "exception": false,
     "start_time": "2022-06-29T18:54:57.918110",
     "status": "completed"
    },
    "tags": []
   },
   "source": [
    "## 4.\n",
    "What are the most common wine-producing regions? Create a Series counting the number of times each value occurs in the `region_1` field. This field is often missing data, so replace missing values with `Unknown`. Sort in descending order.  Your output should look something like this:\n",
    "\n",
    "```\n",
    "Unknown                    21247\n",
    "Napa Valley                 4480\n",
    "                           ...  \n",
    "Bardolino Superiore            1\n",
    "Primitivo del Tarantino        1\n",
    "Name: region_1, Length: 1230, dtype: int64\n",
    "```"
   ]
  },
  {
   "cell_type": "code",
   "execution_count": 8,
   "id": "3fef38e6",
   "metadata": {
    "execution": {
     "iopub.execute_input": "2022-06-29T18:54:57.938161Z",
     "iopub.status.busy": "2022-06-29T18:54:57.937256Z",
     "iopub.status.idle": "2022-06-29T18:54:58.018284Z",
     "shell.execute_reply": "2022-06-29T18:54:58.017119Z"
    },
    "papermill": {
     "duration": 0.091156,
     "end_time": "2022-06-29T18:54:58.020970",
     "exception": false,
     "start_time": "2022-06-29T18:54:57.929814",
     "status": "completed"
    },
    "tags": []
   },
   "outputs": [
    {
     "data": {
      "application/javascript": [
       "parent.postMessage({\"jupyterEvent\": \"custom.exercise_interaction\", \"data\": {\"outcomeType\": 1, \"valueTowardsCompletion\": 0.25, \"interactionType\": 1, \"questionType\": 2, \"questionId\": \"4_ReviewsPerRegion\", \"learnToolsVersion\": \"0.3.4\", \"failureMessage\": \"\", \"exceptionClass\": \"\", \"trace\": \"\"}}, \"*\")"
      ],
      "text/plain": [
       "<IPython.core.display.Javascript object>"
      ]
     },
     "metadata": {},
     "output_type": "display_data"
    },
    {
     "data": {
      "text/markdown": [
       "<span style=\"color:#33cc33\">Correct</span>"
      ],
      "text/plain": [
       "Correct"
      ]
     },
     "metadata": {},
     "output_type": "display_data"
    }
   ],
   "source": [
    "reviews_per_region = reviews.region_1.fillna('Unknown').value_counts().sort_values(ascending=False)\n",
    "\n",
    "# Check your answer\n",
    "q4.check()"
   ]
  },
  {
   "cell_type": "code",
   "execution_count": 9,
   "id": "61eb26e2",
   "metadata": {
    "execution": {
     "iopub.execute_input": "2022-06-29T18:54:58.035497Z",
     "iopub.status.busy": "2022-06-29T18:54:58.035070Z",
     "iopub.status.idle": "2022-06-29T18:54:58.040310Z",
     "shell.execute_reply": "2022-06-29T18:54:58.038975Z"
    },
    "papermill": {
     "duration": 0.015896,
     "end_time": "2022-06-29T18:54:58.043165",
     "exception": false,
     "start_time": "2022-06-29T18:54:58.027269",
     "status": "completed"
    },
    "tags": []
   },
   "outputs": [],
   "source": [
    "#q4.hint()\n",
    "#q4.solution()"
   ]
  },
  {
   "cell_type": "markdown",
   "id": "df9dccf5",
   "metadata": {
    "papermill": {
     "duration": 0.006408,
     "end_time": "2022-06-29T18:54:58.056112",
     "exception": false,
     "start_time": "2022-06-29T18:54:58.049704",
     "status": "completed"
    },
    "tags": []
   },
   "source": [
    "# Keep going\n",
    "\n",
    "Move on to **[renaming and combining](https://www.kaggle.com/residentmario/renaming-and-combining)**."
   ]
  },
  {
   "cell_type": "markdown",
   "id": "5cb1c0e0",
   "metadata": {
    "papermill": {
     "duration": 0.006228,
     "end_time": "2022-06-29T18:54:58.068990",
     "exception": false,
     "start_time": "2022-06-29T18:54:58.062762",
     "status": "completed"
    },
    "tags": []
   },
   "source": [
    "---\n",
    "\n",
    "\n",
    "\n",
    "\n",
    "*Have questions or comments? Visit the [course discussion forum](https://www.kaggle.com/learn/pandas/discussion) to chat with other learners.*"
   ]
  }
 ],
 "metadata": {
  "kernelspec": {
   "display_name": "Python 3",
   "language": "python",
   "name": "python3"
  },
  "language_info": {
   "codemirror_mode": {
    "name": "ipython",
    "version": 3
   },
   "file_extension": ".py",
   "mimetype": "text/x-python",
   "name": "python",
   "nbconvert_exporter": "python",
   "pygments_lexer": "ipython3",
   "version": "3.7.12"
  },
  "papermill": {
   "default_parameters": {},
   "duration": 15.421589,
   "end_time": "2022-06-29T18:54:58.999718",
   "environment_variables": {},
   "exception": null,
   "input_path": "__notebook__.ipynb",
   "output_path": "__notebook__.ipynb",
   "parameters": {},
   "start_time": "2022-06-29T18:54:43.578129",
   "version": "2.3.4"
  }
 },
 "nbformat": 4,
 "nbformat_minor": 5
}
